{
 "cells": [
  {
   "cell_type": "code",
   "execution_count": null,
   "id": "feb292dc-0f10-4c23-b128-6bf30b55dec7",
   "metadata": {},
   "outputs": [],
   "source": [
    "class DateConverter(units.ConversionInterface):\n",
    "\n",
    "    @staticmethod\n",
    "    def convert(Datofecha):\n",
    "        \"Convert a datetime value to a scalar or array.\"\n",
    "        return dates.date2num(value)"
   ]
  },
  {
   "cell_type": "code",
   "execution_count": null,
   "id": "d7f9a572-d008-4233-b641-fa5ccbe2f6c2",
   "metadata": {},
   "outputs": [],
   "source": [
    "units.registry[datetime.date] = DateConverter()"
   ]
  },
  {
   "cell_type": "code",
   "execution_count": null,
   "id": "77170023-7c1c-4094-b0da-cf4f83bd5b27",
   "metadata": {},
   "outputs": [],
   "source": []
  },
  {
   "cell_type": "code",
   "execution_count": null,
   "id": "c11dbb98-ddc9-40f3-99c4-23c88691266f",
   "metadata": {},
   "outputs": [],
   "source": []
  }
 ],
 "metadata": {
  "kernelspec": {
   "display_name": "Python 3 (ipykernel)",
   "language": "python",
   "name": "python3"
  },
  "language_info": {
   "codemirror_mode": {
    "name": "ipython",
    "version": 3
   },
   "file_extension": ".py",
   "mimetype": "text/x-python",
   "name": "python",
   "nbconvert_exporter": "python",
   "pygments_lexer": "ipython3",
   "version": "3.9.12"
  }
 },
 "nbformat": 4,
 "nbformat_minor": 5
}
