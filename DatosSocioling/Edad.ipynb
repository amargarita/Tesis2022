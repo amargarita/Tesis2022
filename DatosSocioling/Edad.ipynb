{
 "cells": [
  {
   "cell_type": "code",
   "execution_count": 50,
   "metadata": {
    "executionInfo": {
     "elapsed": 299,
     "status": "ok",
     "timestamp": 1664131763085,
     "user": {
      "displayName": "Margarita Maturana",
      "userId": "13485028393561392225"
     },
     "user_tz": 180
    },
    "id": "dBCt7kOYE9T8"
   },
   "outputs": [],
   "source": [
    "import pandas as pd\n",
    "\n",
    "\n"
   ]
  },
  {
   "cell_type": "code",
   "execution_count": 51,
   "metadata": {
    "executionInfo": {
     "elapsed": 6,
     "status": "ok",
     "timestamp": 1664131765139,
     "user": {
      "displayName": "Margarita Maturana",
      "userId": "13485028393561392225"
     },
     "user_tz": 180
    },
    "id": "ZVt29B439k0d"
   },
   "outputs": [],
   "source": [
    "import matplotlib.pyplot as plt"
   ]
  },
  {
   "cell_type": "code",
   "execution_count": 52,
   "metadata": {},
   "outputs": [],
   "source": [
    "datos1=\"evespres.xlsx\""
   ]
  },
  {
   "cell_type": "code",
   "execution_count": 53,
   "metadata": {
    "colab": {
     "base_uri": "https://localhost:8080/",
     "height": 328
    },
    "executionInfo": {
     "elapsed": 307,
     "status": "error",
     "timestamp": 1664131932362,
     "user": {
      "displayName": "Margarita Maturana",
      "userId": "13485028393561392225"
     },
     "user_tz": 180
    },
    "id": "Xl5OCGbk_UGw",
    "outputId": "4236519f-7f3e-480b-feaf-f52d325aa26c"
   },
   "outputs": [],
   "source": [
    "df = pd.read_excel(datos1)"
   ]
  },
  {
   "cell_type": "code",
   "execution_count": 54,
   "metadata": {},
   "outputs": [
    {
     "name": "stdout",
     "output_type": "stream",
     "text": [
      "           Marca temporal  Fecha de nacimiento Género  \\\n",
      "0 2022-09-12 16:29:14.354  2002-05-13 00:00:00  mujer   \n",
      "\n",
      "          Nivel educacional Comuna de residencia  \\\n",
      "0  Universitaria incompleta               macul    \n",
      "\n",
      "  1. ¿Cómo describirías la diferencia entre la expresión A y B?\\nA. Empezó a llover en la madrugada.\\nB. Se largó a llover en la madrugada.  \\\n",
      "0                                          sinonimas                                                                                          \n",
      "\n",
      "  2. ¿Cómo describirías la diferencia entre la expresión C y D?\\nC. Luis se gana a vender aliños en la feria los sábados.\\nD. Luis se pone a vender aliños en la feria los sábados.  \\\n",
      "0                                          sinonimas                                                                                                                                  \n",
      "\n",
      "  3. ¿Cómo describirías la diferencia entre la expresión E y F?\\nE. Paula se echó a correr cuando sintió ese ruido.\\nF. Paula se largó a correr cuando sintió ese ruido.  \\\n",
      "0                                          sinonimas                                                                                                                       \n",
      "\n",
      "  4. ¿Cómo describirías la diferencia entre la expresión G y H?\\nG. José se puso a trabajar como mueblista.\\nH. José se metió a trabajar como mueblista.  \\\n",
      "0  por alguna razón siento que en la h se siente ...                                                                                                       \n",
      "\n",
      "  5. ¿Cómo describirías la diferencia entre la expresión I y J?\\nI. Roberto partió a estudiar temprano hoy día.\\nJ. Roberto comenzó a estudiar temprano hoy día.  \\\n",
      "0  en la expresión i es como si roberto se despla...                                                                                                               \n",
      "\n",
      "   ...  \\\n",
      "0  ...   \n",
      "\n",
      "  6. Ordena las siguientes frases de tal forma que la primera (1) sea la que te parece más natural (o menos forzada) hasta llegar a la última (5), menos natural (o más forzada). [La niña se largó a tener sed]  \\\n",
      "0                                                4.0                                                                                                                                                               \n",
      "\n",
      "  6. Ordena las siguientes frases de tal forma que la primera (1) sea la que te parece más natural (o menos forzada) hasta llegar a la última (5), menos natural (o más forzada). [La niña empezó a tener sed]  \\\n",
      "0                                                1.0                                                                                                                                                             \n",
      "\n",
      "  6. Ordena las siguientes frases de tal forma que la primera (1) sea la que te parece más natural (o menos forzada) hasta llegar a la última (5), menos natural (o más forzada). [La niña rompió a tener sed]  \\\n",
      "0                                                5.0                                                                                                                                                             \n",
      "\n",
      "  6. Ordena las siguientes frases de tal forma que la primera (1) sea la que te parece más natural (o menos forzada) hasta llegar a la última (5), menos natural (o más forzada). [La niña se echó a tener sed]  \\\n",
      "0                                                3.0                                                                                                                                                              \n",
      "\n",
      "  7. Ordena las siguientes frases de tal forma que la primera (1) sea la que te parece más natural (o menos forzada) hasta llegar a la última (5), menos natural (o más forzada). [Se pusieron a trabajar mil quinientas personas]  \\\n",
      "0                                                2.0                                                                                                                                                                                 \n",
      "\n",
      "  7. Ordena las siguientes frases de tal forma que la primera (1) sea la que te parece más natural (o menos forzada) hasta llegar a la última (5), menos natural (o más forzada). [Se largaron a trabajar mil quinientas personas]  \\\n",
      "0                                                3.0                                                                                                                                                                                 \n",
      "\n",
      "  7. Ordena las siguientes frases de tal forma que la primera (1) sea la que te parece más natural (o menos forzada) hasta llegar a la última (5), menos natural (o más forzada). [Empezaron a trabajar mil quinientas personas]  \\\n",
      "0                                                1.0                                                                                                                                                                               \n",
      "\n",
      "   7. Ordena las siguientes frases de tal forma que la primera (1) sea la que te parece más natural (o menos forzada) hasta llegar a la última (5), menos natural (o más forzada). [Rompieron a trabajar mil quinientas personas]  \\\n",
      "0                                                5.0                                                                                                                                                                                \n",
      "\n",
      "   7. Ordena las siguientes frases de tal forma que la primera (1) sea la que te parece más natural (o menos forzada) hasta llegar a la última (5), menos natural (o más forzada). [Se echaron a trabajar mil quinientas personas]  \\\n",
      "0                                                4.0                                                                                                                                                                                 \n",
      "\n",
      "   ¿Hubo ejemplos que te causaron mucha extrañeza o \"sonaron raros\"?¿Podrías señalar cuáles y explicar con tus propias palabras por qué?  \n",
      "0  en general los ejemplos de la niña me sonaron ...                                                                                      \n",
      "\n",
      "[1 rows x 38 columns]\n"
     ]
    }
   ],
   "source": [
    "print(df.head()[:1])"
   ]
  },
  {
   "cell_type": "code",
   "execution_count": 55,
   "metadata": {
    "id": "QxZm7L7l_Uao"
   },
   "outputs": [],
   "source": [
    "valores=df[[\"Fecha de nacimiento\"]]"
   ]
  },
  {
   "cell_type": "code",
   "execution_count": 56,
   "metadata": {},
   "outputs": [
    {
     "name": "stdout",
     "output_type": "stream",
     "text": [
      "     Fecha de nacimiento\n",
      "0    2002-05-13 00:00:00\n",
      "1    1996-08-29 00:00:00\n",
      "2    1995-10-17 00:00:00\n",
      "3    1998-08-13 00:00:00\n",
      "4    1997-09-13 00:00:00\n",
      "..                   ...\n",
      "121  2001-01-06 00:00:00\n",
      "122            11/6/0001\n",
      "123  2000-09-10 00:00:00\n",
      "124  1996-06-25 00:00:00\n",
      "125  2003-10-17 00:00:00\n",
      "\n",
      "[126 rows x 1 columns]\n"
     ]
    }
   ],
   "source": [
    "print(valores)"
   ]
  },
  {
   "cell_type": "code",
   "execution_count": 57,
   "metadata": {},
   "outputs": [
    {
     "data": {
      "text/html": [
       "<div>\n",
       "<style scoped>\n",
       "    .dataframe tbody tr th:only-of-type {\n",
       "        vertical-align: middle;\n",
       "    }\n",
       "\n",
       "    .dataframe tbody tr th {\n",
       "        vertical-align: top;\n",
       "    }\n",
       "\n",
       "    .dataframe thead th {\n",
       "        text-align: right;\n",
       "    }\n",
       "</style>\n",
       "<table border=\"1\" class=\"dataframe\">\n",
       "  <thead>\n",
       "    <tr style=\"text-align: right;\">\n",
       "      <th></th>\n",
       "      <th>Fecha de nacimiento</th>\n",
       "    </tr>\n",
       "  </thead>\n",
       "  <tbody>\n",
       "    <tr>\n",
       "      <th>0</th>\n",
       "      <td>2002-05-13 00:00:00</td>\n",
       "    </tr>\n",
       "    <tr>\n",
       "      <th>1</th>\n",
       "      <td>1996-08-29 00:00:00</td>\n",
       "    </tr>\n",
       "    <tr>\n",
       "      <th>2</th>\n",
       "      <td>1995-10-17 00:00:00</td>\n",
       "    </tr>\n",
       "    <tr>\n",
       "      <th>3</th>\n",
       "      <td>1998-08-13 00:00:00</td>\n",
       "    </tr>\n",
       "    <tr>\n",
       "      <th>4</th>\n",
       "      <td>1997-09-13 00:00:00</td>\n",
       "    </tr>\n",
       "  </tbody>\n",
       "</table>\n",
       "</div>"
      ],
      "text/plain": [
       "   Fecha de nacimiento\n",
       "0  2002-05-13 00:00:00\n",
       "1  1996-08-29 00:00:00\n",
       "2  1995-10-17 00:00:00\n",
       "3  1998-08-13 00:00:00\n",
       "4  1997-09-13 00:00:00"
      ]
     },
     "execution_count": 57,
     "metadata": {},
     "output_type": "execute_result"
    }
   ],
   "source": [
    "valores[:5]"
   ]
  },
  {
   "cell_type": "code",
   "execution_count": 58,
   "metadata": {},
   "outputs": [],
   "source": [
    "Datofecha = (df['Fecha de nacimiento'])"
   ]
  },
  {
   "cell_type": "code",
   "execution_count": 59,
   "metadata": {},
   "outputs": [
    {
     "ename": "AttributeError",
     "evalue": "'datetime.datetime' object has no attribute 'strip'",
     "output_type": "error",
     "traceback": [
      "\u001b[1;31m---------------------------------------------------------------------------\u001b[0m",
      "\u001b[1;31mAttributeError\u001b[0m                            Traceback (most recent call last)",
      "Input \u001b[1;32mIn [59]\u001b[0m, in \u001b[0;36m<cell line: 1>\u001b[1;34m()\u001b[0m\n\u001b[1;32m----> 1\u001b[0m Datofecha\u001b[38;5;241m=\u001b[39m[string\u001b[38;5;241m.\u001b[39mstrip() \u001b[38;5;28;01mfor\u001b[39;00m string \u001b[38;5;129;01min\u001b[39;00m Datofecha]\n",
      "Input \u001b[1;32mIn [59]\u001b[0m, in \u001b[0;36m<listcomp>\u001b[1;34m(.0)\u001b[0m\n\u001b[1;32m----> 1\u001b[0m Datofecha\u001b[38;5;241m=\u001b[39m[\u001b[43mstring\u001b[49m\u001b[38;5;241;43m.\u001b[39;49m\u001b[43mstrip\u001b[49m() \u001b[38;5;28;01mfor\u001b[39;00m string \u001b[38;5;129;01min\u001b[39;00m Datofecha]\n",
      "\u001b[1;31mAttributeError\u001b[0m: 'datetime.datetime' object has no attribute 'strip'"
     ]
    }
   ],
   "source": [
    "Datofecha=[string.strip() for string in Datofecha]"
   ]
  },
  {
   "cell_type": "code",
   "execution_count": 60,
   "metadata": {},
   "outputs": [],
   "source": [
    "import matplotlib as mpl\n",
    "import matplotlib.pyplot as plt\n",
    "import numpy as np"
   ]
  },
  {
   "cell_type": "code",
   "execution_count": 61,
   "metadata": {},
   "outputs": [],
   "source": [
    "import matplotlib.units as units\n",
    "import matplotlib.dates as dates\n",
    "import matplotlib.ticker as ticker\n",
    "import datetime"
   ]
  },
  {
   "cell_type": "code",
   "execution_count": null,
   "metadata": {},
   "outputs": [],
   "source": []
  },
  {
   "cell_type": "code",
   "execution_count": null,
   "metadata": {},
   "outputs": [],
   "source": []
  },
  {
   "cell_type": "code",
   "execution_count": null,
   "metadata": {},
   "outputs": [],
   "source": []
  },
  {
   "cell_type": "code",
   "execution_count": null,
   "metadata": {},
   "outputs": [],
   "source": []
  },
  {
   "cell_type": "code",
   "execution_count": null,
   "metadata": {},
   "outputs": [],
   "source": []
  }
 ],
 "metadata": {
  "colab": {
   "authorship_tag": "ABX9TyNNcWH5+DATPP+vVuQFUsSv",
   "provenance": []
  },
  "kernelspec": {
   "display_name": "Python 3 (ipykernel)",
   "language": "python",
   "name": "python3"
  },
  "language_info": {
   "codemirror_mode": {
    "name": "ipython",
    "version": 3
   },
   "file_extension": ".py",
   "mimetype": "text/x-python",
   "name": "python",
   "nbconvert_exporter": "python",
   "pygments_lexer": "ipython3",
   "version": "3.9.12"
  }
 },
 "nbformat": 4,
 "nbformat_minor": 4
}
