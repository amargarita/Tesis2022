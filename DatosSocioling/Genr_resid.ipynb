{
 "cells": [
  {
   "cell_type": "markdown",
   "id": "d0e37ab9",
   "metadata": {},
   "source": [
    "# Abrir Datos"
   ]
  },
  {
   "cell_type": "code",
   "execution_count": 25,
   "id": "43478e6f",
   "metadata": {},
   "outputs": [],
   "source": [
    "import pandas as pd"
   ]
  },
  {
   "cell_type": "code",
   "execution_count": 26,
   "id": "00e98e18",
   "metadata": {},
   "outputs": [],
   "source": [
    "import re"
   ]
  },
  {
   "cell_type": "code",
   "execution_count": 27,
   "id": "9b9d07b3",
   "metadata": {},
   "outputs": [],
   "source": [
    "sources = pd.read_csv('datosencvesp.csv',sep=',')"
   ]
  },
  {
   "cell_type": "code",
   "execution_count": 28,
   "id": "f3108fbb",
   "metadata": {},
   "outputs": [
    {
     "data": {
      "text/html": [
       "<div>\n",
       "<style scoped>\n",
       "    .dataframe tbody tr th:only-of-type {\n",
       "        vertical-align: middle;\n",
       "    }\n",
       "\n",
       "    .dataframe tbody tr th {\n",
       "        vertical-align: top;\n",
       "    }\n",
       "\n",
       "    .dataframe thead th {\n",
       "        text-align: right;\n",
       "    }\n",
       "</style>\n",
       "<table border=\"1\" class=\"dataframe\">\n",
       "  <thead>\n",
       "    <tr style=\"text-align: right;\">\n",
       "      <th></th>\n",
       "      <th>Marca temporal</th>\n",
       "      <th>Fecha de nacimiento</th>\n",
       "      <th>Género</th>\n",
       "      <th>Nivel educacional</th>\n",
       "      <th>Comuna de residencia</th>\n",
       "      <th>1. ¿Cómo describirías la diferencia entre la expresión A y B?\\nA. Empezó a llover en la madrugada.\\nB. Se largó a llover en la madrugada.</th>\n",
       "      <th>2. ¿Cómo describirías la diferencia entre la expresión C y D?\\nC. Luis se gana a vender aliños en la feria los sábados.\\nD. Luis se pone a vender aliños en la feria los sábados.</th>\n",
       "      <th>3. ¿Cómo describirías la diferencia entre la expresión E y F?\\nE. Paula se echó a correr cuando sintió ese ruido.\\nF. Paula se largó a correr cuando sintió ese ruido.</th>\n",
       "      <th>4. ¿Cómo describirías la diferencia entre la expresión G y H?\\nG. José se puso a trabajar como mueblista.\\nH. José se metió a trabajar como mueblista.</th>\n",
       "      <th>5. ¿Cómo describirías la diferencia entre la expresión I y J?\\nI. Roberto partió a estudiar temprano hoy día.\\nJ. Roberto comenzó a estudiar temprano hoy día.</th>\n",
       "      <th>...</th>\n",
       "      <th>6. Ordena las siguientes frases de tal forma que la primera (1) sea la que te parece más natural (o menos forzada) hasta llegar a la última (5), menos natural (o más forzada). [La niña se largó a tener sed]</th>\n",
       "      <th>6. Ordena las siguientes frases de tal forma que la primera (1) sea la que te parece más natural (o menos forzada) hasta llegar a la última (5), menos natural (o más forzada). [La niña empezó a tener sed]</th>\n",
       "      <th>6. Ordena las siguientes frases de tal forma que la primera (1) sea la que te parece más natural (o menos forzada) hasta llegar a la última (5), menos natural (o más forzada). [La niña rompió a tener sed]</th>\n",
       "      <th>6. Ordena las siguientes frases de tal forma que la primera (1) sea la que te parece más natural (o menos forzada) hasta llegar a la última (5), menos natural (o más forzada). [La niña se echó a tener sed]</th>\n",
       "      <th>7. Ordena las siguientes frases de tal forma que la primera (1) sea la que te parece más natural (o menos forzada) hasta llegar a la última (5), menos natural (o más forzada). [Se pusieron a trabajar mil quinientas personas]</th>\n",
       "      <th>7. Ordena las siguientes frases de tal forma que la primera (1) sea la que te parece más natural (o menos forzada) hasta llegar a la última (5), menos natural (o más forzada). [Se largaron a trabajar mil quinientas personas]</th>\n",
       "      <th>7. Ordena las siguientes frases de tal forma que la primera (1) sea la que te parece más natural (o menos forzada) hasta llegar a la última (5), menos natural (o más forzada). [Empezaron a trabajar mil quinientas personas]</th>\n",
       "      <th>7. Ordena las siguientes frases de tal forma que la primera (1) sea la que te parece más natural (o menos forzada) hasta llegar a la última (5), menos natural (o más forzada). [Rompieron a trabajar mil quinientas personas]</th>\n",
       "      <th>7. Ordena las siguientes frases de tal forma que la primera (1) sea la que te parece más natural (o menos forzada) hasta llegar a la última (5), menos natural (o más forzada). [Se echaron a trabajar mil quinientas personas]</th>\n",
       "      <th>¿Hubo ejemplos que te causaron mucha extrañeza o \"sonaron raros\"?¿Podrías señalar cuáles y explicar con tus propias palabras por qué?</th>\n",
       "    </tr>\n",
       "  </thead>\n",
       "  <tbody>\n",
       "    <tr>\n",
       "      <th>0</th>\n",
       "      <td>12/09/2022 16:29:14</td>\n",
       "      <td>13/05/2002</td>\n",
       "      <td>mujer</td>\n",
       "      <td>Universitaria incompleta</td>\n",
       "      <td>macul</td>\n",
       "      <td>sinonimas</td>\n",
       "      <td>sinonimas</td>\n",
       "      <td>sinonimas</td>\n",
       "      <td>por alguna razón siento que en la h se siente ...</td>\n",
       "      <td>en la expresión i es como si roberto se despla...</td>\n",
       "      <td>...</td>\n",
       "      <td>4</td>\n",
       "      <td>1</td>\n",
       "      <td>5</td>\n",
       "      <td>3</td>\n",
       "      <td>2</td>\n",
       "      <td>3</td>\n",
       "      <td>1</td>\n",
       "      <td>5</td>\n",
       "      <td>4</td>\n",
       "      <td>en general los ejemplos de la niña me sonaron ...</td>\n",
       "    </tr>\n",
       "    <tr>\n",
       "      <th>1</th>\n",
       "      <td>12/09/2022 18:17:17</td>\n",
       "      <td>29/08/1996</td>\n",
       "      <td>Masculino</td>\n",
       "      <td>Universitaria incompleta</td>\n",
       "      <td>Ñuñoa</td>\n",
       "      <td>Una marca el comienzo de la lluvia y la otra s...</td>\n",
       "      <td>No veo diferencia, ambas apuntan literalmente ...</td>\n",
       "      <td>No veo diferencia, ambas se refieren a la mism...</td>\n",
       "      <td>No veo diferencias, para mí ambas se refieren ...</td>\n",
       "      <td>La diferencia se puede adjudicar a que en la e...</td>\n",
       "      <td>...</td>\n",
       "      <td>4</td>\n",
       "      <td>1</td>\n",
       "      <td>5</td>\n",
       "      <td>2</td>\n",
       "      <td>1</td>\n",
       "      <td>3</td>\n",
       "      <td>2</td>\n",
       "      <td>5</td>\n",
       "      <td>4</td>\n",
       "      <td>\"La niña se puso a tener sed\" me parece poco u...</td>\n",
       "    </tr>\n",
       "    <tr>\n",
       "      <th>2</th>\n",
       "      <td>12/09/2022 19:53:00</td>\n",
       "      <td>17/10/1995</td>\n",
       "      <td>Masculino</td>\n",
       "      <td>Universitaria completa</td>\n",
       "      <td>Quilicura</td>\n",
       "      <td>La segundo tiene un pronombre clitico</td>\n",
       "      <td>La primera tiene un verbo que forma parte de u...</td>\n",
       "      <td>La segundo se más intensa</td>\n",
       "      <td>Se puso a trabajar tiene una connotacion más v...</td>\n",
       "      <td>La primera tiene un sema de movimiento asociado</td>\n",
       "      <td>...</td>\n",
       "      <td>2</td>\n",
       "      <td>1</td>\n",
       "      <td>5</td>\n",
       "      <td>4</td>\n",
       "      <td>1</td>\n",
       "      <td>3</td>\n",
       "      <td>2</td>\n",
       "      <td>4</td>\n",
       "      <td>5</td>\n",
       "      <td>Rompieron a trabajar</td>\n",
       "    </tr>\n",
       "    <tr>\n",
       "      <th>3</th>\n",
       "      <td>20/09/2022 16:57:54</td>\n",
       "      <td>13/08/1998</td>\n",
       "      <td>Femenino</td>\n",
       "      <td>Universitaria incompleta</td>\n",
       "      <td>Santiago Centro</td>\n",
       "      <td>Sinónimas, tal vez acotaría que el uso de \"se ...</td>\n",
       "      <td>Sinónimas</td>\n",
       "      <td>Sinónimas</td>\n",
       "      <td>El verbo metió me da a pensar más en el lugar ...</td>\n",
       "      <td>\"partió a\" me da a entender que el sujeto tuvo...</td>\n",
       "      <td>...</td>\n",
       "      <td>2</td>\n",
       "      <td>1</td>\n",
       "      <td>5</td>\n",
       "      <td>4</td>\n",
       "      <td>1</td>\n",
       "      <td>3</td>\n",
       "      <td>2</td>\n",
       "      <td>5</td>\n",
       "      <td>4</td>\n",
       "      <td>Sí, todos los del item 6, menos \"empezó a tene...</td>\n",
       "    </tr>\n",
       "    <tr>\n",
       "      <th>4</th>\n",
       "      <td>20/09/2022 17:15:16</td>\n",
       "      <td>13/09/1997</td>\n",
       "      <td>Masculino</td>\n",
       "      <td>Universitaria incompleta</td>\n",
       "      <td>Castro</td>\n",
       "      <td>En el ejemplo A, entiendo que comienza a llove...</td>\n",
       "      <td>sinónimas</td>\n",
       "      <td>sinónimas</td>\n",
       "      <td>G: Entiendo que se ha puesto a trabajar como u...</td>\n",
       "      <td>I: Roberto salió (desplazamiento) a estudiar.\\...</td>\n",
       "      <td>...</td>\n",
       "      <td>3</td>\n",
       "      <td>1</td>\n",
       "      <td>4</td>\n",
       "      <td>5</td>\n",
       "      <td>2</td>\n",
       "      <td>3</td>\n",
       "      <td>1</td>\n",
       "      <td>4</td>\n",
       "      <td>5</td>\n",
       "      <td>Usar el verbo comenzar para hablar de sed en e...</td>\n",
       "    </tr>\n",
       "    <tr>\n",
       "      <th>...</th>\n",
       "      <td>...</td>\n",
       "      <td>...</td>\n",
       "      <td>...</td>\n",
       "      <td>...</td>\n",
       "      <td>...</td>\n",
       "      <td>...</td>\n",
       "      <td>...</td>\n",
       "      <td>...</td>\n",
       "      <td>...</td>\n",
       "      <td>...</td>\n",
       "      <td>...</td>\n",
       "      <td>...</td>\n",
       "      <td>...</td>\n",
       "      <td>...</td>\n",
       "      <td>...</td>\n",
       "      <td>...</td>\n",
       "      <td>...</td>\n",
       "      <td>...</td>\n",
       "      <td>...</td>\n",
       "      <td>...</td>\n",
       "      <td>...</td>\n",
       "    </tr>\n",
       "    <tr>\n",
       "      <th>150</th>\n",
       "      <td>29/09/2022 0:12:16</td>\n",
       "      <td>24/03/1999</td>\n",
       "      <td>Femenino</td>\n",
       "      <td>Universitaria incompleta</td>\n",
       "      <td>Providencia</td>\n",
       "      <td>Empezó se refiere a que comenzó a llover, y se...</td>\n",
       "      <td>Se gana es una expresión que siempre escucho c...</td>\n",
       "      <td>En este caso se echó a correr no se usa correc...</td>\n",
       "      <td>Creo que la forma correcta es se puso a trabaj...</td>\n",
       "      <td>En este caso la primera expresión (I) me hace ...</td>\n",
       "      <td>...</td>\n",
       "      <td>4</td>\n",
       "      <td>1</td>\n",
       "      <td>5</td>\n",
       "      <td>2</td>\n",
       "      <td>1</td>\n",
       "      <td>3</td>\n",
       "      <td>2</td>\n",
       "      <td>4</td>\n",
       "      <td>5</td>\n",
       "      <td>Todos los ejemplos con \"se echaron, rompieron ...</td>\n",
       "    </tr>\n",
       "    <tr>\n",
       "      <th>151</th>\n",
       "      <td>29/09/2022 1:14:30</td>\n",
       "      <td>8/03/1993</td>\n",
       "      <td>Masculino</td>\n",
       "      <td>Universitaria completa</td>\n",
       "      <td>Santiago</td>\n",
       "      <td>B indica que empezó a llover de forma inespera...</td>\n",
       "      <td>C indica que se pone a vender en un lugar está...</td>\n",
       "      <td>son lo mismo</td>\n",
       "      <td>H indica que se puso a trabajr en un lugar o e...</td>\n",
       "      <td>I se puede interpretar exactamente como J o co...</td>\n",
       "      <td>...</td>\n",
       "      <td>2</td>\n",
       "      <td>1</td>\n",
       "      <td>3</td>\n",
       "      <td>4</td>\n",
       "      <td>1</td>\n",
       "      <td>3</td>\n",
       "      <td>2</td>\n",
       "      <td>5</td>\n",
       "      <td>4</td>\n",
       "      <td>En general los objetos no se \"echan\" a hacer c...</td>\n",
       "    </tr>\n",
       "    <tr>\n",
       "      <th>152</th>\n",
       "      <td>29/09/2022 9:10:22</td>\n",
       "      <td>22/11/1999</td>\n",
       "      <td>Femenino</td>\n",
       "      <td>Universitaria incompleta</td>\n",
       "      <td>María Pinto</td>\n",
       "      <td>Sinónimas</td>\n",
       "      <td>Sinónimas</td>\n",
       "      <td>Sinónimas</td>\n",
       "      <td>Sinónimas</td>\n",
       "      <td>Al decir partió me hace pensar que se dirigió ...</td>\n",
       "      <td>...</td>\n",
       "      <td>4</td>\n",
       "      <td>1</td>\n",
       "      <td>5</td>\n",
       "      <td>2</td>\n",
       "      <td>2</td>\n",
       "      <td>3</td>\n",
       "      <td>1</td>\n",
       "      <td>5</td>\n",
       "      <td>4</td>\n",
       "      <td>Quizás la expresión rompieron, ya que es común...</td>\n",
       "    </tr>\n",
       "    <tr>\n",
       "      <th>153</th>\n",
       "      <td>29/09/2022 14:09:43</td>\n",
       "      <td>24/05/2000</td>\n",
       "      <td>Femenino</td>\n",
       "      <td>Universitaria incompleta</td>\n",
       "      <td>Providencia</td>\n",
       "      <td>B es más tradicional chilena que A</td>\n",
       "      <td>C es incorrecta, informal, y tiene marcadores ...</td>\n",
       "      <td>E describe una acción más repentina y menos pr...</td>\n",
       "      <td>H es más informal que G</td>\n",
       "      <td>I implica que Roberto se trasladó a otro lugar...</td>\n",
       "      <td>...</td>\n",
       "      <td>4</td>\n",
       "      <td>1</td>\n",
       "      <td>5</td>\n",
       "      <td>3</td>\n",
       "      <td>1</td>\n",
       "      <td>4</td>\n",
       "      <td>2</td>\n",
       "      <td>5</td>\n",
       "      <td>3</td>\n",
       "      <td>Muchos que usaban la expresión 'romper a' que ...</td>\n",
       "    </tr>\n",
       "    <tr>\n",
       "      <th>154</th>\n",
       "      <td>29/09/2022 21:59:24</td>\n",
       "      <td>25/05/1999</td>\n",
       "      <td>Femenino</td>\n",
       "      <td>Universitaria incompleta</td>\n",
       "      <td>Pudahuel</td>\n",
       "      <td>La B es más informal, se usa en el campo y en ...</td>\n",
       "      <td>C es más informal e igualmente la considero de...</td>\n",
       "      <td>Pasa lo mismo que con la pregunta 1, se usa en...</td>\n",
       "      <td>H es más informal</td>\n",
       "      <td>I es informal, J es formal</td>\n",
       "      <td>...</td>\n",
       "      <td>2</td>\n",
       "      <td>1</td>\n",
       "      <td>5</td>\n",
       "      <td>4</td>\n",
       "      <td>1</td>\n",
       "      <td>3</td>\n",
       "      <td>2</td>\n",
       "      <td>5</td>\n",
       "      <td>4</td>\n",
       "      <td>Todos los de la niña ya que \"se largó\" \"se pus...</td>\n",
       "    </tr>\n",
       "  </tbody>\n",
       "</table>\n",
       "<p>155 rows × 38 columns</p>\n",
       "</div>"
      ],
      "text/plain": [
       "          Marca temporal Fecha de nacimiento      Género  \\\n",
       "0    12/09/2022 16:29:14          13/05/2002       mujer   \n",
       "1    12/09/2022 18:17:17          29/08/1996  Masculino    \n",
       "2    12/09/2022 19:53:00          17/10/1995   Masculino   \n",
       "3    20/09/2022 16:57:54          13/08/1998    Femenino   \n",
       "4    20/09/2022 17:15:16          13/09/1997  Masculino    \n",
       "..                   ...                 ...         ...   \n",
       "150   29/09/2022 0:12:16          24/03/1999    Femenino   \n",
       "151   29/09/2022 1:14:30           8/03/1993   Masculino   \n",
       "152   29/09/2022 9:10:22          22/11/1999    Femenino   \n",
       "153  29/09/2022 14:09:43          24/05/2000    Femenino   \n",
       "154  29/09/2022 21:59:24          25/05/1999    Femenino   \n",
       "\n",
       "            Nivel educacional Comuna de residencia  \\\n",
       "0    Universitaria incompleta               macul    \n",
       "1    Universitaria incompleta               Ñuñoa    \n",
       "2      Universitaria completa            Quilicura   \n",
       "3    Universitaria incompleta     Santiago Centro    \n",
       "4    Universitaria incompleta               Castro   \n",
       "..                        ...                  ...   \n",
       "150  Universitaria incompleta          Providencia   \n",
       "151    Universitaria completa             Santiago   \n",
       "152  Universitaria incompleta          María Pinto   \n",
       "153  Universitaria incompleta          Providencia   \n",
       "154  Universitaria incompleta             Pudahuel   \n",
       "\n",
       "    1. ¿Cómo describirías la diferencia entre la expresión A y B?\\nA. Empezó a llover en la madrugada.\\nB. Se largó a llover en la madrugada.  \\\n",
       "0                                            sinonimas                                                                                          \n",
       "1    Una marca el comienzo de la lluvia y la otra s...                                                                                          \n",
       "2                La segundo tiene un pronombre clitico                                                                                          \n",
       "3    Sinónimas, tal vez acotaría que el uso de \"se ...                                                                                          \n",
       "4    En el ejemplo A, entiendo que comienza a llove...                                                                                          \n",
       "..                                                 ...                                                                                          \n",
       "150  Empezó se refiere a que comenzó a llover, y se...                                                                                          \n",
       "151  B indica que empezó a llover de forma inespera...                                                                                          \n",
       "152                                          Sinónimas                                                                                          \n",
       "153                 B es más tradicional chilena que A                                                                                          \n",
       "154  La B es más informal, se usa en el campo y en ...                                                                                          \n",
       "\n",
       "    2. ¿Cómo describirías la diferencia entre la expresión C y D?\\nC. Luis se gana a vender aliños en la feria los sábados.\\nD. Luis se pone a vender aliños en la feria los sábados.  \\\n",
       "0                                            sinonimas                                                                                                                                  \n",
       "1    No veo diferencia, ambas apuntan literalmente ...                                                                                                                                  \n",
       "2    La primera tiene un verbo que forma parte de u...                                                                                                                                  \n",
       "3                                            Sinónimas                                                                                                                                  \n",
       "4                                           sinónimas                                                                                                                                   \n",
       "..                                                 ...                                                                                                                                  \n",
       "150  Se gana es una expresión que siempre escucho c...                                                                                                                                  \n",
       "151  C indica que se pone a vender en un lugar está...                                                                                                                                  \n",
       "152                                          Sinónimas                                                                                                                                  \n",
       "153  C es incorrecta, informal, y tiene marcadores ...                                                                                                                                  \n",
       "154  C es más informal e igualmente la considero de...                                                                                                                                  \n",
       "\n",
       "    3. ¿Cómo describirías la diferencia entre la expresión E y F?\\nE. Paula se echó a correr cuando sintió ese ruido.\\nF. Paula se largó a correr cuando sintió ese ruido.  \\\n",
       "0                                            sinonimas                                                                                                                       \n",
       "1    No veo diferencia, ambas se refieren a la mism...                                                                                                                       \n",
       "2                            La segundo se más intensa                                                                                                                       \n",
       "3                                           Sinónimas                                                                                                                        \n",
       "4                                           sinónimas                                                                                                                        \n",
       "..                                                 ...                                                                                                                       \n",
       "150  En este caso se echó a correr no se usa correc...                                                                                                                       \n",
       "151                                       son lo mismo                                                                                                                       \n",
       "152                                          Sinónimas                                                                                                                       \n",
       "153  E describe una acción más repentina y menos pr...                                                                                                                       \n",
       "154  Pasa lo mismo que con la pregunta 1, se usa en...                                                                                                                       \n",
       "\n",
       "    4. ¿Cómo describirías la diferencia entre la expresión G y H?\\nG. José se puso a trabajar como mueblista.\\nH. José se metió a trabajar como mueblista.  \\\n",
       "0    por alguna razón siento que en la h se siente ...                                                                                                       \n",
       "1    No veo diferencias, para mí ambas se refieren ...                                                                                                       \n",
       "2    Se puso a trabajar tiene una connotacion más v...                                                                                                       \n",
       "3    El verbo metió me da a pensar más en el lugar ...                                                                                                       \n",
       "4    G: Entiendo que se ha puesto a trabajar como u...                                                                                                       \n",
       "..                                                 ...                                                                                                       \n",
       "150  Creo que la forma correcta es se puso a trabaj...                                                                                                       \n",
       "151  H indica que se puso a trabajr en un lugar o e...                                                                                                       \n",
       "152                                          Sinónimas                                                                                                       \n",
       "153                            H es más informal que G                                                                                                       \n",
       "154                                  H es más informal                                                                                                       \n",
       "\n",
       "    5. ¿Cómo describirías la diferencia entre la expresión I y J?\\nI. Roberto partió a estudiar temprano hoy día.\\nJ. Roberto comenzó a estudiar temprano hoy día.  \\\n",
       "0    en la expresión i es como si roberto se despla...                                                                                                               \n",
       "1    La diferencia se puede adjudicar a que en la e...                                                                                                               \n",
       "2     La primera tiene un sema de movimiento asociado                                                                                                                \n",
       "3    \"partió a\" me da a entender que el sujeto tuvo...                                                                                                               \n",
       "4    I: Roberto salió (desplazamiento) a estudiar.\\...                                                                                                               \n",
       "..                                                 ...                                                                                                               \n",
       "150  En este caso la primera expresión (I) me hace ...                                                                                                               \n",
       "151  I se puede interpretar exactamente como J o co...                                                                                                               \n",
       "152  Al decir partió me hace pensar que se dirigió ...                                                                                                               \n",
       "153  I implica que Roberto se trasladó a otro lugar...                                                                                                               \n",
       "154                         I es informal, J es formal                                                                                                               \n",
       "\n",
       "     ...  \\\n",
       "0    ...   \n",
       "1    ...   \n",
       "2    ...   \n",
       "3    ...   \n",
       "4    ...   \n",
       "..   ...   \n",
       "150  ...   \n",
       "151  ...   \n",
       "152  ...   \n",
       "153  ...   \n",
       "154  ...   \n",
       "\n",
       "    6. Ordena las siguientes frases de tal forma que la primera (1) sea la que te parece más natural (o menos forzada) hasta llegar a la última (5), menos natural (o más forzada). [La niña se largó a tener sed]  \\\n",
       "0                                                    4                                                                                                                                                               \n",
       "1                                                    4                                                                                                                                                               \n",
       "2                                                    2                                                                                                                                                               \n",
       "3                                                    2                                                                                                                                                               \n",
       "4                                                    3                                                                                                                                                               \n",
       "..                                                 ...                                                                                                                                                               \n",
       "150                                                  4                                                                                                                                                               \n",
       "151                                                  2                                                                                                                                                               \n",
       "152                                                  4                                                                                                                                                               \n",
       "153                                                  4                                                                                                                                                               \n",
       "154                                                  2                                                                                                                                                               \n",
       "\n",
       "    6. Ordena las siguientes frases de tal forma que la primera (1) sea la que te parece más natural (o menos forzada) hasta llegar a la última (5), menos natural (o más forzada). [La niña empezó a tener sed]  \\\n",
       "0                                                    1                                                                                                                                                             \n",
       "1                                                    1                                                                                                                                                             \n",
       "2                                                    1                                                                                                                                                             \n",
       "3                                                    1                                                                                                                                                             \n",
       "4                                                    1                                                                                                                                                             \n",
       "..                                                 ...                                                                                                                                                             \n",
       "150                                                  1                                                                                                                                                             \n",
       "151                                                  1                                                                                                                                                             \n",
       "152                                                  1                                                                                                                                                             \n",
       "153                                                  1                                                                                                                                                             \n",
       "154                                                  1                                                                                                                                                             \n",
       "\n",
       "    6. Ordena las siguientes frases de tal forma que la primera (1) sea la que te parece más natural (o menos forzada) hasta llegar a la última (5), menos natural (o más forzada). [La niña rompió a tener sed]  \\\n",
       "0                                                    5                                                                                                                                                             \n",
       "1                                                    5                                                                                                                                                             \n",
       "2                                                    5                                                                                                                                                             \n",
       "3                                                    5                                                                                                                                                             \n",
       "4                                                    4                                                                                                                                                             \n",
       "..                                                 ...                                                                                                                                                             \n",
       "150                                                  5                                                                                                                                                             \n",
       "151                                                  3                                                                                                                                                             \n",
       "152                                                  5                                                                                                                                                             \n",
       "153                                                  5                                                                                                                                                             \n",
       "154                                                  5                                                                                                                                                             \n",
       "\n",
       "    6. Ordena las siguientes frases de tal forma que la primera (1) sea la que te parece más natural (o menos forzada) hasta llegar a la última (5), menos natural (o más forzada). [La niña se echó a tener sed]  \\\n",
       "0                                                    3                                                                                                                                                              \n",
       "1                                                    2                                                                                                                                                              \n",
       "2                                                    4                                                                                                                                                              \n",
       "3                                                    4                                                                                                                                                              \n",
       "4                                                    5                                                                                                                                                              \n",
       "..                                                 ...                                                                                                                                                              \n",
       "150                                                  2                                                                                                                                                              \n",
       "151                                                  4                                                                                                                                                              \n",
       "152                                                  2                                                                                                                                                              \n",
       "153                                                  3                                                                                                                                                              \n",
       "154                                                  4                                                                                                                                                              \n",
       "\n",
       "    7. Ordena las siguientes frases de tal forma que la primera (1) sea la que te parece más natural (o menos forzada) hasta llegar a la última (5), menos natural (o más forzada). [Se pusieron a trabajar mil quinientas personas]  \\\n",
       "0                                                    2                                                                                                                                                                                 \n",
       "1                                                    1                                                                                                                                                                                 \n",
       "2                                                    1                                                                                                                                                                                 \n",
       "3                                                    1                                                                                                                                                                                 \n",
       "4                                                    2                                                                                                                                                                                 \n",
       "..                                                 ...                                                                                                                                                                                 \n",
       "150                                                  1                                                                                                                                                                                 \n",
       "151                                                  1                                                                                                                                                                                 \n",
       "152                                                  2                                                                                                                                                                                 \n",
       "153                                                  1                                                                                                                                                                                 \n",
       "154                                                  1                                                                                                                                                                                 \n",
       "\n",
       "    7. Ordena las siguientes frases de tal forma que la primera (1) sea la que te parece más natural (o menos forzada) hasta llegar a la última (5), menos natural (o más forzada). [Se largaron a trabajar mil quinientas personas]  \\\n",
       "0                                                    3                                                                                                                                                                                 \n",
       "1                                                    3                                                                                                                                                                                 \n",
       "2                                                    3                                                                                                                                                                                 \n",
       "3                                                    3                                                                                                                                                                                 \n",
       "4                                                    3                                                                                                                                                                                 \n",
       "..                                                 ...                                                                                                                                                                                 \n",
       "150                                                  3                                                                                                                                                                                 \n",
       "151                                                  3                                                                                                                                                                                 \n",
       "152                                                  3                                                                                                                                                                                 \n",
       "153                                                  4                                                                                                                                                                                 \n",
       "154                                                  3                                                                                                                                                                                 \n",
       "\n",
       "    7. Ordena las siguientes frases de tal forma que la primera (1) sea la que te parece más natural (o menos forzada) hasta llegar a la última (5), menos natural (o más forzada). [Empezaron a trabajar mil quinientas personas]  \\\n",
       "0                                                    1                                                                                                                                                                               \n",
       "1                                                    2                                                                                                                                                                               \n",
       "2                                                    2                                                                                                                                                                               \n",
       "3                                                    2                                                                                                                                                                               \n",
       "4                                                    1                                                                                                                                                                               \n",
       "..                                                 ...                                                                                                                                                                               \n",
       "150                                                  2                                                                                                                                                                               \n",
       "151                                                  2                                                                                                                                                                               \n",
       "152                                                  1                                                                                                                                                                               \n",
       "153                                                  2                                                                                                                                                                               \n",
       "154                                                  2                                                                                                                                                                               \n",
       "\n",
       "     7. Ordena las siguientes frases de tal forma que la primera (1) sea la que te parece más natural (o menos forzada) hasta llegar a la última (5), menos natural (o más forzada). [Rompieron a trabajar mil quinientas personas]  \\\n",
       "0                                                    5                                                                                                                                                                                \n",
       "1                                                    5                                                                                                                                                                                \n",
       "2                                                    4                                                                                                                                                                                \n",
       "3                                                    5                                                                                                                                                                                \n",
       "4                                                    4                                                                                                                                                                                \n",
       "..                                                 ...                                                                                                                                                                                \n",
       "150                                                  4                                                                                                                                                                                \n",
       "151                                                  5                                                                                                                                                                                \n",
       "152                                                  5                                                                                                                                                                                \n",
       "153                                                  5                                                                                                                                                                                \n",
       "154                                                  5                                                                                                                                                                                \n",
       "\n",
       "     7. Ordena las siguientes frases de tal forma que la primera (1) sea la que te parece más natural (o menos forzada) hasta llegar a la última (5), menos natural (o más forzada). [Se echaron a trabajar mil quinientas personas]  \\\n",
       "0                                                    4                                                                                                                                                                                 \n",
       "1                                                    4                                                                                                                                                                                 \n",
       "2                                                    5                                                                                                                                                                                 \n",
       "3                                                    4                                                                                                                                                                                 \n",
       "4                                                    5                                                                                                                                                                                 \n",
       "..                                                 ...                                                                                                                                                                                 \n",
       "150                                                  5                                                                                                                                                                                 \n",
       "151                                                  4                                                                                                                                                                                 \n",
       "152                                                  4                                                                                                                                                                                 \n",
       "153                                                  3                                                                                                                                                                                 \n",
       "154                                                  4                                                                                                                                                                                 \n",
       "\n",
       "     ¿Hubo ejemplos que te causaron mucha extrañeza o \"sonaron raros\"?¿Podrías señalar cuáles y explicar con tus propias palabras por qué?  \n",
       "0    en general los ejemplos de la niña me sonaron ...                                                                                      \n",
       "1    \"La niña se puso a tener sed\" me parece poco u...                                                                                      \n",
       "2                                Rompieron a trabajar                                                                                       \n",
       "3    Sí, todos los del item 6, menos \"empezó a tene...                                                                                      \n",
       "4    Usar el verbo comenzar para hablar de sed en e...                                                                                      \n",
       "..                                                 ...                                                                                      \n",
       "150  Todos los ejemplos con \"se echaron, rompieron ...                                                                                      \n",
       "151  En general los objetos no se \"echan\" a hacer c...                                                                                      \n",
       "152  Quizás la expresión rompieron, ya que es común...                                                                                      \n",
       "153  Muchos que usaban la expresión 'romper a' que ...                                                                                      \n",
       "154  Todos los de la niña ya que \"se largó\" \"se pus...                                                                                      \n",
       "\n",
       "[155 rows x 38 columns]"
      ]
     },
     "execution_count": 28,
     "metadata": {},
     "output_type": "execute_result"
    }
   ],
   "source": [
    "sources"
   ]
  },
  {
   "cell_type": "markdown",
   "id": "197d56f0",
   "metadata": {
    "tags": []
   },
   "source": [
    "# Datos etáreos"
   ]
  },
  {
   "cell_type": "code",
   "execution_count": 29,
   "id": "322a29a7",
   "metadata": {
    "scrolled": true,
    "tags": []
   },
   "outputs": [
    {
     "name": "stdout",
     "output_type": "stream",
     "text": [
      "0           mujer\n",
      "1      Masculino \n",
      "2       Masculino\n",
      "3        Femenino\n",
      "4      Masculino \n",
      "          ...    \n",
      "150      Femenino\n",
      "151     Masculino\n",
      "152      Femenino\n",
      "153      Femenino\n",
      "154      Femenino\n",
      "Name: Género, Length: 155, dtype: object\n"
     ]
    }
   ],
   "source": [
    "print(sources['Género'])\n",
    "## señalo que trabajaré con esta columna"
   ]
  },
  {
   "cell_type": "code",
   "execution_count": 30,
   "id": "0a390405",
   "metadata": {},
   "outputs": [],
   "source": [
    "Datoinicio = (sources['Género'])\n",
    "## la hago lista"
   ]
  },
  {
   "cell_type": "code",
   "execution_count": 31,
   "id": "11af5034-32b5-4d52-8940-92e2ef24b5be",
   "metadata": {},
   "outputs": [
    {
     "data": {
      "text/plain": [
       "0         mujer\n",
       "1    Masculino \n",
       "2     Masculino\n",
       "3      Femenino\n",
       "4    Masculino \n",
       "Name: Género, dtype: object"
      ]
     },
     "execution_count": 31,
     "metadata": {},
     "output_type": "execute_result"
    }
   ],
   "source": [
    "Datoinicio[:5]"
   ]
  },
  {
   "cell_type": "code",
   "execution_count": 32,
   "id": "81015fb4",
   "metadata": {},
   "outputs": [],
   "source": [
    "Datoinicio=[string.lower() for string in Datoinicio]\n",
    "## minúscula"
   ]
  },
  {
   "cell_type": "code",
   "execution_count": 35,
   "id": "61121b91-158a-49ed-a2d6-1df857920873",
   "metadata": {},
   "outputs": [
    {
     "data": {
      "text/plain": [
       "['mujer', 'masculino', 'masculino', 'femenino', 'masculino']"
      ]
     },
     "execution_count": 35,
     "metadata": {},
     "output_type": "execute_result"
    }
   ],
   "source": [
    "Datoinicio[:5]"
   ]
  },
  {
   "cell_type": "code",
   "execution_count": 36,
   "id": "d26cd29e",
   "metadata": {},
   "outputs": [],
   "source": [
    "Datoinicio=[string.strip() for string in Datoinicio]\n",
    "## adios espacios en blanco extras"
   ]
  },
  {
   "cell_type": "code",
   "execution_count": 37,
   "id": "3426a069",
   "metadata": {
    "scrolled": true
   },
   "outputs": [
    {
     "data": {
      "text/plain": [
       "['mujer',\n",
       " 'masculino',\n",
       " 'masculino',\n",
       " 'femenino',\n",
       " 'masculino',\n",
       " 'femenino',\n",
       " 'masculino',\n",
       " 'm',\n",
       " 'hombre',\n",
       " 'masculino']"
      ]
     },
     "execution_count": 37,
     "metadata": {},
     "output_type": "execute_result"
    }
   ],
   "source": [
    "Datoinicio[:10]"
   ]
  },
  {
   "cell_type": "code",
   "execution_count": 10,
   "id": "3ffb6141",
   "metadata": {},
   "outputs": [],
   "source": [
    "palabras_unicas = []\n",
    "\n",
    "for palabra in Datoinicio:\n",
    "    if palabra not in palabras_unicas:\n",
    "        palabras_unicas = palabras_unicas + [palabra]\n",
    "        \n",
    "## Busco las palabras únicas para saber cuántas categorías tengo"
   ]
  },
  {
   "cell_type": "code",
   "execution_count": 11,
   "id": "9a26b5e3",
   "metadata": {},
   "outputs": [
    {
     "data": {
      "text/plain": [
       "23"
      ]
     },
     "execution_count": 11,
     "metadata": {},
     "output_type": "execute_result"
    }
   ],
   "source": [
    "len(palabras_unicas)"
   ]
  },
  {
   "cell_type": "code",
   "execution_count": 12,
   "id": "a5858059",
   "metadata": {},
   "outputs": [
    {
     "name": "stdout",
     "output_type": "stream",
     "text": [
      "['mujer', 'masculino', 'femenino', 'm', 'hombre', 'agenero', 'no binarie', 'prefiero no decirlo', 'no binario', 'masculini', 'bigenero', 'fluido', 'masculino, aproximadamente', 'femenino/mujer', 'x', 'nb', 'hombre cis', 'femenino (?)', 'maculino', 'femme', 'nn', 'no', '♂']\n"
     ]
    }
   ],
   "source": [
    "print(palabras_unicas)"
   ]
  },
  {
   "cell_type": "code",
   "execution_count": 13,
   "id": "1633bbe4",
   "metadata": {},
   "outputs": [],
   "source": [
    "D = {palabra:0 for palabra in palabras_unicas}\n",
    "## Hago un diccionario para ver cuantas values tiene cada una de mis entradas"
   ]
  },
  {
   "cell_type": "code",
   "execution_count": 14,
   "id": "70ccbd33",
   "metadata": {},
   "outputs": [],
   "source": [
    "for palabra in Datoinicio:\n",
    "    \n",
    "    D[palabra] += 1\n",
    "    \n",
    "##sumo los values"
   ]
  },
  {
   "cell_type": "code",
   "execution_count": 15,
   "id": "dc662629",
   "metadata": {},
   "outputs": [],
   "source": [
    "D=sorted(D.items())\n",
    "## ordena diccionario alfabéticamente"
   ]
  },
  {
   "cell_type": "code",
   "execution_count": 16,
   "id": "7b275df5",
   "metadata": {},
   "outputs": [
    {
     "data": {
      "text/plain": [
       "[('agenero', 1),\n",
       " ('bigenero', 1),\n",
       " ('femenino', 64),\n",
       " ('femenino (?)', 1),\n",
       " ('femenino/mujer', 1),\n",
       " ('femme', 1),\n",
       " ('fluido', 1),\n",
       " ('hombre', 6),\n",
       " ('hombre cis', 1),\n",
       " ('m', 1),\n",
       " ('maculino', 1),\n",
       " ('masculini', 1),\n",
       " ('masculino', 51),\n",
       " ('masculino, aproximadamente', 1),\n",
       " ('mujer', 10),\n",
       " ('nb', 1),\n",
       " ('nn', 1),\n",
       " ('no', 1),\n",
       " ('no binarie', 2),\n",
       " ('no binario', 4),\n",
       " ('prefiero no decirlo', 2),\n",
       " ('x', 1),\n",
       " ('♂', 1)]"
      ]
     },
     "execution_count": 16,
     "metadata": {},
     "output_type": "execute_result"
    }
   ],
   "source": [
    "D"
   ]
  },
  {
   "cell_type": "markdown",
   "id": "f307cdb8",
   "metadata": {},
   "source": [
    "# Datos geográficos"
   ]
  },
  {
   "cell_type": "code",
   "execution_count": 17,
   "id": "d5bb07bb",
   "metadata": {},
   "outputs": [
    {
     "name": "stdout",
     "output_type": "stream",
     "text": [
      "0                macul \n",
      "1                Ñuñoa \n",
      "2             Quilicura\n",
      "3      Santiago Centro \n",
      "4                Castro\n",
      "             ...       \n",
      "150         Providencia\n",
      "151            Santiago\n",
      "152         María Pinto\n",
      "153         Providencia\n",
      "154            Pudahuel\n",
      "Name: Comuna de residencia, Length: 155, dtype: object\n"
     ]
    }
   ],
   "source": [
    "print(sources['Comuna de residencia'])\n"
   ]
  },
  {
   "cell_type": "code",
   "execution_count": 18,
   "id": "c4ee8dcd",
   "metadata": {},
   "outputs": [],
   "source": [
    "Datoinicio2 = (sources['Comuna de residencia'])"
   ]
  },
  {
   "cell_type": "code",
   "execution_count": 19,
   "id": "3719fba1",
   "metadata": {},
   "outputs": [
    {
     "data": {
      "text/plain": [
       "['macul',\n",
       " 'ñuñoa',\n",
       " 'quilicura',\n",
       " 'santiago centro',\n",
       " 'castro',\n",
       " 'ñuñoa',\n",
       " 'santiago',\n",
       " 'cerro navia',\n",
       " 'pudahuel',\n",
       " 'ñuñoa']"
      ]
     },
     "execution_count": 19,
     "metadata": {},
     "output_type": "execute_result"
    }
   ],
   "source": [
    "Datoinicio2=[string.lower() for string in Datoinicio2]\n",
    "\n",
    "Datoinicio2=[string.strip() for string in Datoinicio2]\n",
    "\n",
    "Datoinicio2[:10]"
   ]
  },
  {
   "cell_type": "code",
   "execution_count": 20,
   "id": "bf2ec2e7",
   "metadata": {},
   "outputs": [],
   "source": [
    "palabras_unicascomuna = []\n",
    "\n",
    "for palabra in Datoinicio2:\n",
    "    if palabra not in palabras_unicascomuna:\n",
    "        palabras_unicascomuna = palabras_unicascomuna + [palabra]"
   ]
  },
  {
   "cell_type": "code",
   "execution_count": 21,
   "id": "5348884c",
   "metadata": {},
   "outputs": [
    {
     "data": {
      "text/plain": [
       "63"
      ]
     },
     "execution_count": 21,
     "metadata": {},
     "output_type": "execute_result"
    }
   ],
   "source": [
    "len(palabras_unicascomuna)"
   ]
  },
  {
   "cell_type": "code",
   "execution_count": 22,
   "id": "e4cf4402",
   "metadata": {},
   "outputs": [
    {
     "name": "stdout",
     "output_type": "stream",
     "text": [
      "['macul', 'ñuñoa', 'quilicura', 'santiago centro', 'castro', 'santiago', 'cerro navia', 'pudahuel', 'buin', 'la florida', 'san bernardo', 'concepción', 'lautaro', 'antofagasta', 'providencia', 'maipú', 'san joaquin', 'chiguayante', 'llanquihue', 'coquimbo', 'peñalolen', 'villa alemana', 'puente alto', 'chillan', 'la cisterna', 'maipu', 'chillán', 'san miguel', 'renca', 'puerto montt', 'estación central', 'talagante', 'conchalí', 'colina', 'la reina', 'requínoa', 'iquique-macul', 'recoleta', 'el monte', 'temuco', 'las condes', 'molina', 'rancagua', 'curico', 'talca', 'independencia', 'san joaquín', 'lago ranco', 'los vilos', 'puente alto/ñuñoa', 'quinta normal', 'la florid', 'montevideo (uruguay)', 'peñalolén', 'la granja', 'ñuñoa/punta arenas', 'vilcún', 'collipulli', 'lo prado', 'canela', 'huechuraba', 'codegua', 'maría pinto']\n"
     ]
    }
   ],
   "source": [
    "print(palabras_unicascomuna)"
   ]
  },
  {
   "cell_type": "code",
   "execution_count": 23,
   "id": "ade5a1ea",
   "metadata": {},
   "outputs": [],
   "source": [
    "D2 = {palabra:0 for palabra in palabras_unicascomuna}"
   ]
  },
  {
   "cell_type": "code",
   "execution_count": 24,
   "id": "63eee0ef",
   "metadata": {},
   "outputs": [
    {
     "data": {
      "text/plain": [
       "[('antofagasta', 3),\n",
       " ('buin', 2),\n",
       " ('canela', 1),\n",
       " ('castro', 1),\n",
       " ('cerro navia', 1),\n",
       " ('chiguayante', 2),\n",
       " ('chillan', 2),\n",
       " ('chillán', 3),\n",
       " ('codegua', 1),\n",
       " ('colina', 1),\n",
       " ('collipulli', 1),\n",
       " ('concepción', 2),\n",
       " ('conchalí', 2),\n",
       " ('coquimbo', 1),\n",
       " ('curico', 1),\n",
       " ('el monte', 1),\n",
       " ('estación central', 2),\n",
       " ('huechuraba', 1),\n",
       " ('independencia', 1),\n",
       " ('iquique-macul', 1),\n",
       " ('la cisterna', 4),\n",
       " ('la florid', 1),\n",
       " ('la florida', 7),\n",
       " ('la granja', 1),\n",
       " ('la reina', 6),\n",
       " ('lago ranco', 1),\n",
       " ('las condes', 2),\n",
       " ('lautaro', 1),\n",
       " ('llanquihue', 1),\n",
       " ('lo prado', 1),\n",
       " ('los vilos', 1),\n",
       " ('macul', 5),\n",
       " ('maipu', 2),\n",
       " ('maipú', 2),\n",
       " ('maría pinto', 1),\n",
       " ('molina', 1),\n",
       " ('montevideo (uruguay)', 1),\n",
       " ('peñalolen', 3),\n",
       " ('peñalolén', 2),\n",
       " ('providencia', 9),\n",
       " ('pudahuel', 3),\n",
       " ('puente alto', 5),\n",
       " ('puente alto/ñuñoa', 1),\n",
       " ('puerto montt', 1),\n",
       " ('quilicura', 5),\n",
       " ('quinta normal', 3),\n",
       " ('rancagua', 1),\n",
       " ('recoleta', 2),\n",
       " ('renca', 3),\n",
       " ('requínoa', 1),\n",
       " ('san bernardo', 3),\n",
       " ('san joaquin', 1),\n",
       " ('san joaquín', 1),\n",
       " ('san miguel', 1),\n",
       " ('santiago', 12),\n",
       " ('santiago centro', 8),\n",
       " ('talagante', 1),\n",
       " ('talca', 1),\n",
       " ('temuco', 1),\n",
       " ('vilcún', 1),\n",
       " ('villa alemana', 2),\n",
       " ('ñuñoa', 15),\n",
       " ('ñuñoa/punta arenas', 1)]"
      ]
     },
     "execution_count": 24,
     "metadata": {},
     "output_type": "execute_result"
    }
   ],
   "source": [
    "for palabra in Datoinicio2:\n",
    "    \n",
    "    D2[palabra] += 1\n",
    "\n",
    "D2=sorted(D2.items())\n",
    "## ordena diccionario alfabéticamente\n",
    "\n",
    "D2"
   ]
  },
  {
   "cell_type": "code",
   "execution_count": null,
   "id": "ab68e6dd",
   "metadata": {},
   "outputs": [],
   "source": []
  }
 ],
 "metadata": {
  "kernelspec": {
   "display_name": "Python 3 (ipykernel)",
   "language": "python",
   "name": "python3"
  },
  "language_info": {
   "codemirror_mode": {
    "name": "ipython",
    "version": 3
   },
   "file_extension": ".py",
   "mimetype": "text/x-python",
   "name": "python",
   "nbconvert_exporter": "python",
   "pygments_lexer": "ipython3",
   "version": "3.9.12"
  }
 },
 "nbformat": 4,
 "nbformat_minor": 5
}
