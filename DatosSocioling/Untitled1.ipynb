{
 "cells": [
  {
   "cell_type": "code",
   "execution_count": 1,
   "id": "f406ffb2-b565-4a17-907b-f0ec378d5b1e",
   "metadata": {},
   "outputs": [],
   "source": [
    "import pandas as pd\n",
    "import matplotlib.pyplot as plt"
   ]
  },
  {
   "cell_type": "code",
   "execution_count": 2,
   "id": "0e21269a-73ac-4bcc-97d7-d1a89fc98d24",
   "metadata": {},
   "outputs": [
    {
     "name": "stdout",
     "output_type": "stream",
     "text": [
      "Requirement already satisfied: XlsxWriter in c:\\users\\loreto\\anaconda3\\lib\\site-packages (3.0.3)\n",
      "Note: you may need to restart the kernel to use updated packages.\n"
     ]
    }
   ],
   "source": [
    "pip install XlsxWriter"
   ]
  },
  {
   "cell_type": "code",
   "execution_count": 3,
   "id": "1bd8ea49-619c-4557-aee9-e249219ee3ce",
   "metadata": {},
   "outputs": [
    {
     "name": "stderr",
     "output_type": "stream",
     "text": [
      "C:\\Users\\Loreto\\AppData\\Local\\Temp\\ipykernel_8376\\4042530393.py:1: FutureWarning: Use of **kwargs is deprecated, use engine_kwargs instead.\n",
      "  writer = pd.ExcelWriter('evespres.xlsx',\n"
     ]
    }
   ],
   "source": [
    "writer = pd.ExcelWriter('evespres.xlsx',\n",
    "                        engine='xlsxwriter',\n",
    "                        options={'remove_timezone': True})"
   ]
  },
  {
   "cell_type": "code",
   "execution_count": 4,
   "id": "99f5b029-a8df-4112-85d6-a5e3c1494a6c",
   "metadata": {},
   "outputs": [
    {
     "ename": "NameError",
     "evalue": "name 'xlsxwriter' is not defined",
     "output_type": "error",
     "traceback": [
      "\u001b[1;31m---------------------------------------------------------------------------\u001b[0m",
      "\u001b[1;31mNameError\u001b[0m                                 Traceback (most recent call last)",
      "Input \u001b[1;32mIn [4]\u001b[0m, in \u001b[0;36m<cell line: 1>\u001b[1;34m()\u001b[0m\n\u001b[1;32m----> 1\u001b[0m workbook \u001b[38;5;241m=\u001b[39m \u001b[43mxlsxwriter\u001b[49m\u001b[38;5;241m.\u001b[39mWorkbook(evespres, {\u001b[38;5;124m'\u001b[39m\u001b[38;5;124mremove_timezone\u001b[39m\u001b[38;5;124m'\u001b[39m: \u001b[38;5;28;01mTrue\u001b[39;00m})\n",
      "\u001b[1;31mNameError\u001b[0m: name 'xlsxwriter' is not defined"
     ]
    }
   ],
   "source": [
    "workbook = xlsxwriter.Workbook(evespres, {'remove_timezone': True})"
   ]
  },
  {
   "cell_type": "code",
   "execution_count": null,
   "id": "ee2338e7-1de9-4c1f-ab84-c27135737bbc",
   "metadata": {},
   "outputs": [],
   "source": []
  },
  {
   "cell_type": "code",
   "execution_count": null,
   "id": "11fc2e5b-1caf-4058-98f8-3791a8aca552",
   "metadata": {},
   "outputs": [],
   "source": []
  },
  {
   "cell_type": "code",
   "execution_count": null,
   "id": "a0c51ed6-b577-4b6b-af2d-49f4d30fba0e",
   "metadata": {},
   "outputs": [],
   "source": [
    "datos1=\"evespres.xlsx\""
   ]
  },
  {
   "cell_type": "code",
   "execution_count": null,
   "id": "111d3b2e-7576-45c7-993f-94cd094833d1",
   "metadata": {},
   "outputs": [],
   "source": [
    "df = pd.read_excel(datos1)"
   ]
  },
  {
   "cell_type": "code",
   "execution_count": null,
   "id": "2ca09091-5d60-496b-b9c6-cffe785f5fbf",
   "metadata": {},
   "outputs": [],
   "source": [
    "datos1 = df[['Fecha de nacimiento',  'Nivel educacional']]\n",
    "datos1 = datos1.dropna()"
   ]
  },
  {
   "cell_type": "code",
   "execution_count": null,
   "id": "136db4c5-cf53-48b0-9740-28e4f720bb89",
   "metadata": {},
   "outputs": [],
   "source": [
    "datos1"
   ]
  },
  {
   "cell_type": "code",
   "execution_count": null,
   "id": "5f1dfd55-99e9-47e4-a08d-5c83f1748329",
   "metadata": {},
   "outputs": [],
   "source": [
    "type(datos1)"
   ]
  },
  {
   "cell_type": "code",
   "execution_count": null,
   "id": "586337ef-5ee0-47d7-9970-af2cab1eca09",
   "metadata": {},
   "outputs": [],
   "source": [
    "by_year = datos1.sort_values('Nivel educacional')\n",
    "by_year.head()"
   ]
  },
  {
   "cell_type": "code",
   "execution_count": null,
   "id": "c99631ed-b5d3-4e8a-815f-50e1feae024a",
   "metadata": {},
   "outputs": [],
   "source": [
    "type(by_year)"
   ]
  },
  {
   "cell_type": "code",
   "execution_count": null,
   "id": "86a6235b-4bde-451d-9cfc-4748009f3905",
   "metadata": {},
   "outputs": [],
   "source": [
    "Fecha de nacimiento.strptime(date_string, format)"
   ]
  },
  {
   "cell_type": "code",
   "execution_count": null,
   "id": "99c3cc03-3ba9-4fd4-813a-9e4ea6c36327",
   "metadata": {},
   "outputs": [],
   "source": []
  },
  {
   "cell_type": "code",
   "execution_count": null,
   "id": "07f68442-d04b-4a27-a5d6-3d9d53b72f9a",
   "metadata": {},
   "outputs": [],
   "source": []
  },
  {
   "cell_type": "code",
   "execution_count": null,
   "id": "4cb7d092-24f3-4d5e-a1c5-8e748dc3c9e0",
   "metadata": {},
   "outputs": [],
   "source": []
  },
  {
   "cell_type": "code",
   "execution_count": null,
   "id": "e2c4f3ce-d161-4a78-81f0-1b397502da21",
   "metadata": {},
   "outputs": [],
   "source": []
  },
  {
   "cell_type": "code",
   "execution_count": null,
   "id": "44c0240a-6401-44ca-bd35-2614300227b3",
   "metadata": {},
   "outputs": [],
   "source": [
    "Fechnac = list(datos1['Fecha de nacimiento'])"
   ]
  },
  {
   "cell_type": "code",
   "execution_count": null,
   "id": "a278f631-0246-4939-8a6b-94088819e33c",
   "metadata": {},
   "outputs": [],
   "source": [
    "fechnac.replace (tzinfo = None)."
   ]
  },
  {
   "cell_type": "code",
   "execution_count": null,
   "id": "e1e21c99-db10-422a-90d0-a381cfef8f9a",
   "metadata": {},
   "outputs": [],
   "source": []
  },
  {
   "cell_type": "code",
   "execution_count": null,
   "id": "29a117bf-54da-461d-b0f7-b57fd921545d",
   "metadata": {},
   "outputs": [],
   "source": []
  },
  {
   "cell_type": "code",
   "execution_count": null,
   "id": "11419872-2a37-4ee1-98a9-b32391bdc62d",
   "metadata": {},
   "outputs": [],
   "source": []
  },
  {
   "cell_type": "code",
   "execution_count": null,
   "id": "cb9b1f32-131f-43e9-85b3-74afb62cf65e",
   "metadata": {},
   "outputs": [],
   "source": []
  },
  {
   "cell_type": "code",
   "execution_count": null,
   "id": "30cbe1fb-4fda-4f35-a9f1-0276daa64433",
   "metadata": {},
   "outputs": [],
   "source": []
  },
  {
   "cell_type": "code",
   "execution_count": null,
   "id": "33cc19d2-d4ef-4c29-a745-2fc09bc4ccd5",
   "metadata": {},
   "outputs": [],
   "source": []
  },
  {
   "cell_type": "code",
   "execution_count": null,
   "id": "eadf7856-b078-4f06-ba7a-ecd24e3f55b6",
   "metadata": {},
   "outputs": [],
   "source": []
  },
  {
   "cell_type": "code",
   "execution_count": null,
   "id": "0ee21d91-b1ce-4f41-a202-39cd81c13392",
   "metadata": {},
   "outputs": [],
   "source": []
  },
  {
   "cell_type": "code",
   "execution_count": null,
   "id": "b8904fe0-4d60-4314-be37-7499dd0f9327",
   "metadata": {},
   "outputs": [],
   "source": []
  },
  {
   "cell_type": "code",
   "execution_count": null,
   "id": "68715587-b2ab-4264-b483-313a5784deed",
   "metadata": {},
   "outputs": [],
   "source": []
  },
  {
   "cell_type": "code",
   "execution_count": null,
   "id": "7b733861-5224-408f-8270-13b3bcc2df1e",
   "metadata": {},
   "outputs": [],
   "source": []
  },
  {
   "cell_type": "code",
   "execution_count": null,
   "id": "7db6d2c5-3c8d-43a6-9648-da030c521558",
   "metadata": {},
   "outputs": [],
   "source": []
  },
  {
   "cell_type": "code",
   "execution_count": null,
   "id": "73bf31c8-67c1-45e9-8fcf-7fdee1064819",
   "metadata": {},
   "outputs": [],
   "source": []
  },
  {
   "cell_type": "code",
   "execution_count": null,
   "id": "5f8ea09e-41f3-43a0-9b76-f1359270c3ce",
   "metadata": {},
   "outputs": [],
   "source": []
  },
  {
   "cell_type": "code",
   "execution_count": null,
   "id": "e9f7b06d-9998-4c84-a579-5da25fdebb9e",
   "metadata": {},
   "outputs": [],
   "source": []
  },
  {
   "cell_type": "code",
   "execution_count": null,
   "id": "2f1e1cba-dac6-48af-9efa-cab47d8af408",
   "metadata": {},
   "outputs": [],
   "source": []
  },
  {
   "cell_type": "code",
   "execution_count": null,
   "id": "a596fe82-649b-4d91-b422-8729ab580f5b",
   "metadata": {},
   "outputs": [],
   "source": []
  },
  {
   "cell_type": "code",
   "execution_count": null,
   "id": "2743c003-69e2-4575-847d-d8bc9a2d2342",
   "metadata": {},
   "outputs": [],
   "source": []
  }
 ],
 "metadata": {
  "kernelspec": {
   "display_name": "Python 3 (ipykernel)",
   "language": "python",
   "name": "python3"
  },
  "language_info": {
   "codemirror_mode": {
    "name": "ipython",
    "version": 3
   },
   "file_extension": ".py",
   "mimetype": "text/x-python",
   "name": "python",
   "nbconvert_exporter": "python",
   "pygments_lexer": "ipython3",
   "version": "3.9.12"
  }
 },
 "nbformat": 4,
 "nbformat_minor": 5
}
