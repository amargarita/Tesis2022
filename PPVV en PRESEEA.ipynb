{
 "cells": [
  {
   "cell_type": "code",
   "execution_count": 90,
   "id": "07f4f396",
   "metadata": {},
   "outputs": [
    {
     "name": "stdout",
     "output_type": "stream",
     "text": [
      "Palabras:  194352\n",
      "Öraciones:  19537\n"
     ]
    }
   ],
   "source": [
    "nombre_arx = 'preseeachilegithub.txt'\n",
    "desde_linea = 2 # empieza a leer desde la linea\n",
    "\n",
    "with open(nombre_arx,'r',encoding=\"utf8\") as file:\n",
    "    lineas_arx = file.readlines()\n",
    "\n",
    "# OJO! se borran las lineas de menos de 3 caracteres    \n",
    "lineas_arx = [linea[3:] if linea[1]==\":\" else linea for linea in lineas_arx if len(linea)>3]\n",
    "texto2 = \"\".join(lineas_arx[desde_linea-1:])\n",
    "    \n",
    "texto_limpio = \"\"\n",
    "flag1 = False # para borrar las palabras <encerradas en flechas>\n",
    "flag2 = False # para las mayusculas que faltan\n",
    "\n",
    "pa = 0 # contador de puntos aparte\n",
    "\n",
    "for l in texto2:\n",
    "    if flag1:\n",
    "        if l == \">\":\n",
    "            flag1 = False\n",
    "        continue\n",
    "    if l in {\"\\n\",\".\",\"!\",\"?\"}:\n",
    "         texto_limpio += l\n",
    "         flag2 = True\n",
    "         if l == '\\n':\n",
    "             pa += 1\n",
    "    elif l.isalnum() or l in \" ,;¡'¿\": ##enlaza varios else if\n",
    "         texto_limpio += l.upper() if flag2 else l # mayusculas\n",
    "         if not l.isspace():\n",
    "             flag2 = False\n",
    "    elif l == \"<\":\n",
    "        flag1 = True\n",
    "        continue\n",
    "     \n",
    "print(\"Palabras: \",len(texto_limpio.split()))\n",
    "print(\"Öraciones: \", pa + len(texto_limpio.split(\".\")))\n",
    "    \n",
    "with open(nombre_arx.split(\".\")[0]+\"_procesado.txt\",\"w\",encoding=\"utf8\") as file:\n",
    "    file.write(texto_limpio) # escritura de archivo"
   ]
  },
  {
   "cell_type": "code",
   "execution_count": 91,
   "id": "6d42f9ad",
   "metadata": {},
   "outputs": [
    {
     "data": {
      "text/plain": [
       "'\\n\\n\\n\\n\\n\\n\\n\\n\\n\\n \\nYa  ehm ¿en q'"
      ]
     },
     "execution_count": 91,
     "metadata": {},
     "output_type": "execute_result"
    }
   ],
   "source": [
    "texto_limpio[:25]"
   ]
  },
  {
   "cell_type": "code",
   "execution_count": 92,
   "id": "77d39848",
   "metadata": {},
   "outputs": [],
   "source": [
    "## Señalo las librerías que usaré \n",
    "from nltk import sent_tokenize\n",
    "import re"
   ]
  },
  {
   "cell_type": "code",
   "execution_count": 93,
   "id": "aa7aca56",
   "metadata": {},
   "outputs": [],
   "source": [
    "## tokenizo las oraciones \n",
    "oraciones=sent_tokenize(texto_limpio)"
   ]
  },
  {
   "cell_type": "code",
   "execution_count": 94,
   "id": "f87808c3",
   "metadata": {},
   "outputs": [
    {
     "data": {
      "text/plain": [
       "['\\n\\n\\n\\n\\n\\n\\n\\n\\n\\n \\nYa  ehm ¿en qué año naciste?',\n",
       " 'I.',\n",
       " 'En mil nueve setenta y tres\\n¿dónde?',\n",
       " '¿dónde naciste?',\n",
       " 'I.']"
      ]
     },
     "execution_count": 94,
     "metadata": {},
     "output_type": "execute_result"
    }
   ],
   "source": [
    "oraciones[:5]"
   ]
  },
  {
   "cell_type": "code",
   "execution_count": 95,
   "id": "89197e26",
   "metadata": {},
   "outputs": [],
   "source": [
    "oraciones=[oracion.replace('I.','').strip() for oracion in oraciones]"
   ]
  },
  {
   "cell_type": "code",
   "execution_count": 96,
   "id": "340b4f67",
   "metadata": {},
   "outputs": [],
   "source": [
    "## elimino los saltos de línea\n",
    "oraciones=[oracion.replace('\\n','').strip() for oracion in oraciones]"
   ]
  },
  {
   "cell_type": "code",
   "execution_count": 97,
   "id": "21de7a73",
   "metadata": {},
   "outputs": [
    {
     "data": {
      "text/plain": [
       "['Ya  ehm ¿en qué año naciste?',\n",
       " '',\n",
       " 'En mil nueve setenta y tres¿dónde?',\n",
       " '¿dónde naciste?',\n",
       " '']"
      ]
     },
     "execution_count": 97,
     "metadata": {},
     "output_type": "execute_result"
    }
   ],
   "source": [
    "oraciones[:5]"
   ]
  },
  {
   "cell_type": "code",
   "execution_count": 98,
   "id": "51c3fca7",
   "metadata": {},
   "outputs": [
    {
     "name": "stdout",
     "output_type": "stream",
     "text": [
      "['Ya ehm ¿en qué año naciste?', '', 'En mil nueve setenta y tres¿dónde?', '¿dónde naciste?', '']\n"
     ]
    }
   ],
   "source": [
    "## creo una lista donde quedará mi texto sin espacio en blanco. \n",
    "sinblancos =[]\n",
    "## uso un for que recorre el texto buscando espacios en blanco repetidos. \n",
    "for oracion in oraciones:\n",
    "    espacios_dobles = re.compile(r'\\s\\s')\n",
    "    sinblancos += [espacios_dobles.sub(\" \", oracion)]\n",
    "##pruebo\n",
    "print(sinblancos[:5])"
   ]
  },
  {
   "cell_type": "code",
   "execution_count": 99,
   "id": "a0edecd5",
   "metadata": {},
   "outputs": [],
   "source": [
    "\n",
    "sinblancos=[string for string in sinblancos if len(string) >0]"
   ]
  },
  {
   "cell_type": "code",
   "execution_count": 100,
   "id": "b08155db",
   "metadata": {},
   "outputs": [
    {
     "data": {
      "text/plain": [
       "['Ya ehm ¿en qué año naciste?',\n",
       " 'En mil nueve setenta y tres¿dónde?',\n",
       " '¿dónde naciste?',\n",
       " 'En CC ¿cuándo llegaste para S?',\n",
       " '¿cuándo chica?']"
      ]
     },
     "execution_count": 100,
     "metadata": {},
     "output_type": "execute_result"
    }
   ],
   "source": [
    "sinblancos[:5]"
   ]
  },
  {
   "cell_type": "code",
   "execution_count": 101,
   "id": "d8582fa8",
   "metadata": {},
   "outputs": [],
   "source": [
    "## convierto la mayúsuclas en minúsculas \n",
    "sinblancos=[string.lower() for string in sinblancos]"
   ]
  },
  {
   "cell_type": "code",
   "execution_count": 102,
   "id": "5721e133",
   "metadata": {},
   "outputs": [
    {
     "data": {
      "text/plain": [
       "['ya ehm ¿en qué año naciste?',\n",
       " 'en mil nueve setenta y tres¿dónde?',\n",
       " '¿dónde naciste?',\n",
       " 'en cc ¿cuándo llegaste para s?',\n",
       " '¿cuándo chica?']"
      ]
     },
     "execution_count": 102,
     "metadata": {},
     "output_type": "execute_result"
    }
   ],
   "source": [
    "sinblancos[:5]"
   ]
  },
  {
   "cell_type": "code",
   "execution_count": 103,
   "id": "5248a2dc",
   "metadata": {},
   "outputs": [],
   "source": [
    "## remuevo la puntuación\n",
    "import string\n",
    "\n",
    "def remover_puntuacion(s): \n",
    "    for c in string.punctuation:\n",
    "        s=s.replace(c,\"\")\n",
    "    return s"
   ]
  },
  {
   "cell_type": "code",
   "execution_count": 104,
   "id": "15dcd342",
   "metadata": {},
   "outputs": [],
   "source": [
    "presealimpio =[]\n",
    "for oracion in sinblancos:\n",
    "    presealimpio += [remover_puntuacion(oracion)]"
   ]
  },
  {
   "cell_type": "code",
   "execution_count": 105,
   "id": "f027d4d1",
   "metadata": {},
   "outputs": [
    {
     "data": {
      "text/plain": [
       "['ya ehm ¿en qué año naciste',\n",
       " 'en mil nueve setenta y tres¿dónde',\n",
       " '¿dónde naciste',\n",
       " 'en cc ¿cuándo llegaste para s',\n",
       " '¿cuándo chica']"
      ]
     },
     "execution_count": 105,
     "metadata": {},
     "output_type": "execute_result"
    }
   ],
   "source": [
    "presealimpio[:5]"
   ]
  },
  {
   "cell_type": "markdown",
   "id": "f5f2ccce-484c-4c08-bb43-eb30e09d3842",
   "metadata": {},
   "source": [
    "#### No se eliminaron los signos al inicio de la frase, cómo procedo?"
   ]
  },
  {
   "cell_type": "code",
   "execution_count": 106,
   "id": "ed5f8a99",
   "metadata": {},
   "outputs": [
    {
     "data": {
      "text/plain": [
       "4578"
      ]
     },
     "execution_count": 106,
     "metadata": {},
     "output_type": "execute_result"
    }
   ],
   "source": [
    "## número de oraciones del corpus\n",
    "len(presealimpio)"
   ]
  },
  {
   "cell_type": "markdown",
   "id": "27ec65f0-9df1-41e6-84ad-b6cc54d495cb",
   "metadata": {},
   "source": [
    "# Análisis gramatical de las oraciones"
   ]
  },
  {
   "cell_type": "code",
   "execution_count": 116,
   "id": "6a628f88",
   "metadata": {},
   "outputs": [],
   "source": [
    "import spacy"
   ]
  },
  {
   "cell_type": "code",
   "execution_count": null,
   "id": "6deb62fb-a5c6-4e83-92a6-03455cd63e59",
   "metadata": {
    "tags": []
   },
   "outputs": [],
   "source": [
    "conda install -c conda-forge spacy-model-es_core_news_lg"
   ]
  },
  {
   "cell_type": "code",
   "execution_count": null,
   "id": "dd7517d3-4c2e-4cfd-a577-0be0d2cdde40",
   "metadata": {},
   "outputs": [],
   "source": []
  },
  {
   "cell_type": "code",
   "execution_count": 115,
   "id": "e24dfeb6-21dc-4b3d-8e93-c07361213246",
   "metadata": {
    "tags": []
   },
   "outputs": [
    {
     "ename": "OSError",
     "evalue": "[E050] Can't find model 'es_core_news_sm'. It doesn't seem to be a Python package or a valid path to a data directory.",
     "output_type": "error",
     "traceback": [
      "\u001b[1;31m---------------------------------------------------------------------------\u001b[0m",
      "\u001b[1;31mOSError\u001b[0m                                   Traceback (most recent call last)",
      "Input \u001b[1;32mIn [115]\u001b[0m, in \u001b[0;36m<cell line: 1>\u001b[1;34m()\u001b[0m\n\u001b[1;32m----> 1\u001b[0m nlp \u001b[38;5;241m=\u001b[39m \u001b[43mspacy\u001b[49m\u001b[38;5;241;43m.\u001b[39;49m\u001b[43mload\u001b[49m\u001b[43m(\u001b[49m\u001b[38;5;124;43m\"\u001b[39;49m\u001b[38;5;124;43mes_core_news_sm\u001b[39;49m\u001b[38;5;124;43m\"\u001b[39;49m\u001b[43m)\u001b[49m\n",
      "File \u001b[1;32m~\\anaconda3\\lib\\site-packages\\spacy\\__init__.py:54\u001b[0m, in \u001b[0;36mload\u001b[1;34m(name, vocab, disable, enable, exclude, config)\u001b[0m\n\u001b[0;32m     30\u001b[0m \u001b[38;5;28;01mdef\u001b[39;00m \u001b[38;5;21mload\u001b[39m(\n\u001b[0;32m     31\u001b[0m     name: Union[\u001b[38;5;28mstr\u001b[39m, Path],\n\u001b[0;32m     32\u001b[0m     \u001b[38;5;241m*\u001b[39m,\n\u001b[1;32m   (...)\u001b[0m\n\u001b[0;32m     37\u001b[0m     config: Union[Dict[\u001b[38;5;28mstr\u001b[39m, Any], Config] \u001b[38;5;241m=\u001b[39m util\u001b[38;5;241m.\u001b[39mSimpleFrozenDict(),\n\u001b[0;32m     38\u001b[0m ) \u001b[38;5;241m-\u001b[39m\u001b[38;5;241m>\u001b[39m Language:\n\u001b[0;32m     39\u001b[0m     \u001b[38;5;124;03m\"\"\"Load a spaCy model from an installed package or a local path.\u001b[39;00m\n\u001b[0;32m     40\u001b[0m \n\u001b[0;32m     41\u001b[0m \u001b[38;5;124;03m    name (str): Package name or model path.\u001b[39;00m\n\u001b[1;32m   (...)\u001b[0m\n\u001b[0;32m     52\u001b[0m \u001b[38;5;124;03m    RETURNS (Language): The loaded nlp object.\u001b[39;00m\n\u001b[0;32m     53\u001b[0m \u001b[38;5;124;03m    \"\"\"\u001b[39;00m\n\u001b[1;32m---> 54\u001b[0m     \u001b[38;5;28;01mreturn\u001b[39;00m \u001b[43mutil\u001b[49m\u001b[38;5;241;43m.\u001b[39;49m\u001b[43mload_model\u001b[49m\u001b[43m(\u001b[49m\n\u001b[0;32m     55\u001b[0m \u001b[43m        \u001b[49m\u001b[43mname\u001b[49m\u001b[43m,\u001b[49m\n\u001b[0;32m     56\u001b[0m \u001b[43m        \u001b[49m\u001b[43mvocab\u001b[49m\u001b[38;5;241;43m=\u001b[39;49m\u001b[43mvocab\u001b[49m\u001b[43m,\u001b[49m\n\u001b[0;32m     57\u001b[0m \u001b[43m        \u001b[49m\u001b[43mdisable\u001b[49m\u001b[38;5;241;43m=\u001b[39;49m\u001b[43mdisable\u001b[49m\u001b[43m,\u001b[49m\n\u001b[0;32m     58\u001b[0m \u001b[43m        \u001b[49m\u001b[43menable\u001b[49m\u001b[38;5;241;43m=\u001b[39;49m\u001b[43menable\u001b[49m\u001b[43m,\u001b[49m\n\u001b[0;32m     59\u001b[0m \u001b[43m        \u001b[49m\u001b[43mexclude\u001b[49m\u001b[38;5;241;43m=\u001b[39;49m\u001b[43mexclude\u001b[49m\u001b[43m,\u001b[49m\n\u001b[0;32m     60\u001b[0m \u001b[43m        \u001b[49m\u001b[43mconfig\u001b[49m\u001b[38;5;241;43m=\u001b[39;49m\u001b[43mconfig\u001b[49m\u001b[43m,\u001b[49m\n\u001b[0;32m     61\u001b[0m \u001b[43m    \u001b[49m\u001b[43m)\u001b[49m\n",
      "File \u001b[1;32m~\\anaconda3\\lib\\site-packages\\spacy\\util.py:436\u001b[0m, in \u001b[0;36mload_model\u001b[1;34m(name, vocab, disable, enable, exclude, config)\u001b[0m\n\u001b[0;32m    434\u001b[0m \u001b[38;5;28;01mif\u001b[39;00m name \u001b[38;5;129;01min\u001b[39;00m OLD_MODEL_SHORTCUTS:\n\u001b[0;32m    435\u001b[0m     \u001b[38;5;28;01mraise\u001b[39;00m \u001b[38;5;167;01mIOError\u001b[39;00m(Errors\u001b[38;5;241m.\u001b[39mE941\u001b[38;5;241m.\u001b[39mformat(name\u001b[38;5;241m=\u001b[39mname, full\u001b[38;5;241m=\u001b[39mOLD_MODEL_SHORTCUTS[name]))  \u001b[38;5;66;03m# type: ignore[index]\u001b[39;00m\n\u001b[1;32m--> 436\u001b[0m \u001b[38;5;28;01mraise\u001b[39;00m \u001b[38;5;167;01mIOError\u001b[39;00m(Errors\u001b[38;5;241m.\u001b[39mE050\u001b[38;5;241m.\u001b[39mformat(name\u001b[38;5;241m=\u001b[39mname))\n",
      "\u001b[1;31mOSError\u001b[0m: [E050] Can't find model 'es_core_news_sm'. It doesn't seem to be a Python package or a valid path to a data directory."
     ]
    }
   ],
   "source": [
    "nlp = spacy.load(\"es_core_news_sm\")"
   ]
  },
  {
   "cell_type": "code",
   "execution_count": 112,
   "id": "b0fa5c86-81c6-4a67-852d-011a966c4687",
   "metadata": {},
   "outputs": [
    {
     "ename": "NameError",
     "evalue": "name 'nlp' is not defined",
     "output_type": "error",
     "traceback": [
      "\u001b[1;31m---------------------------------------------------------------------------\u001b[0m",
      "\u001b[1;31mNameError\u001b[0m                                 Traceback (most recent call last)",
      "Input \u001b[1;32mIn [112]\u001b[0m, in \u001b[0;36m<cell line: 1>\u001b[1;34m()\u001b[0m\n\u001b[0;32m      1\u001b[0m \u001b[38;5;28;01mfor\u001b[39;00m oracion \u001b[38;5;129;01min\u001b[39;00m presealimpio:\n\u001b[1;32m----> 2\u001b[0m     doc \u001b[38;5;241m=\u001b[39m \u001b[43mnlp\u001b[49m(oracion)\n\u001b[0;32m      3\u001b[0m     infogram\u001b[38;5;241m+\u001b[39m\u001b[38;5;241m=\u001b[39m[(Token\u001b[38;5;241m.\u001b[39mhead, token\u001b[38;5;241m.\u001b[39mmorph, Token\u001b[38;5;241m.\u001b[39mlemma_, token\u001b[38;5;241m.\u001b[39mpos_) \u001b[38;5;28;01mfor\u001b[39;00m token \u001b[38;5;129;01min\u001b[39;00m doc]\n",
      "\u001b[1;31mNameError\u001b[0m: name 'nlp' is not defined"
     ]
    }
   ],
   "source": [
    "for oracion in presealimpio:\n",
    "    doc = nlp(oracion)\n",
    "    infogram+=[(Token.head, token.morph, Token.lemma_, token.pos_) for token in doc]"
   ]
  },
  {
   "cell_type": "code",
   "execution_count": 111,
   "id": "696a1ef1-48f3-473e-aad2-68c849ed895f",
   "metadata": {},
   "outputs": [],
   "source": [
    "infogram=[]"
   ]
  },
  {
   "cell_type": "code",
   "execution_count": 110,
   "id": "f8805d4c-7cdc-47c7-a222-ebb86102ffc0",
   "metadata": {},
   "outputs": [
    {
     "ename": "NameError",
     "evalue": "name 'infogram' is not defined",
     "output_type": "error",
     "traceback": [
      "\u001b[1;31m---------------------------------------------------------------------------\u001b[0m",
      "\u001b[1;31mNameError\u001b[0m                                 Traceback (most recent call last)",
      "Input \u001b[1;32mIn [110]\u001b[0m, in \u001b[0;36m<cell line: 1>\u001b[1;34m()\u001b[0m\n\u001b[1;32m----> 1\u001b[0m infogram\u001b[38;5;241m=\u001b[39m[par \u001b[38;5;28;01mfor\u001b[39;00m par \u001b[38;5;129;01min\u001b[39;00m \u001b[43minfogram\u001b[49m \u001b[38;5;28;01mif\u001b[39;00m par[\u001b[38;5;241m1\u001b[39m] \u001b[38;5;241m!=\u001b[39m\u001b[38;5;124m'\u001b[39m\u001b[38;5;124mSPACE\u001b[39m\u001b[38;5;124m'\u001b[39m]\n",
      "\u001b[1;31mNameError\u001b[0m: name 'infogram' is not defined"
     ]
    }
   ],
   "source": [
    "infogram=[par for par in infogram if par[1] !='SPACE']"
   ]
  },
  {
   "cell_type": "code",
   "execution_count": null,
   "id": "a8b074f2-96a4-4808-b9af-17143d7b5d45",
   "metadata": {},
   "outputs": [],
   "source": []
  },
  {
   "cell_type": "code",
   "execution_count": null,
   "id": "558c7a6f-bb3e-43bc-a101-f7c889e9fbb3",
   "metadata": {},
   "outputs": [],
   "source": []
  },
  {
   "cell_type": "code",
   "execution_count": null,
   "id": "08bbc5cd-8dc3-493a-9747-dce6bbfc7d60",
   "metadata": {},
   "outputs": [],
   "source": []
  },
  {
   "cell_type": "code",
   "execution_count": null,
   "id": "277f2070-ebac-45dc-88ff-abf3ae92a327",
   "metadata": {},
   "outputs": [],
   "source": []
  }
 ],
 "metadata": {
  "kernelspec": {
   "display_name": "Python 3 (ipykernel)",
   "language": "python",
   "name": "python3"
  },
  "language_info": {
   "codemirror_mode": {
    "name": "ipython",
    "version": 3
   },
   "file_extension": ".py",
   "mimetype": "text/x-python",
   "name": "python",
   "nbconvert_exporter": "python",
   "pygments_lexer": "ipython3",
   "version": "3.9.12"
  }
 },
 "nbformat": 4,
 "nbformat_minor": 5
}
